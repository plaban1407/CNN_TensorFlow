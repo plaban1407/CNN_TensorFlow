{
  "nbformat": 4,
  "nbformat_minor": 0,
  "metadata": {
    "colab": {
      "name": "happy-or-sad-classification.ipynb",
      "provenance": [],
      "collapsed_sections": [],
      "authorship_tag": "ABX9TyP7GotSBB7ohcnl/iIwIONt",
      "include_colab_link": true
    },
    "kernelspec": {
      "name": "python3",
      "display_name": "Python 3"
    },
    "language_info": {
      "name": "python"
    }
  },
  "cells": [
    {
      "cell_type": "markdown",
      "metadata": {
        "id": "view-in-github",
        "colab_type": "text"
      },
      "source": [
        "<a href=\"https://colab.research.google.com/github/plaban1407/CNN_TensorFlow/blob/main/happy_or_sad_classification_cnn.ipynb\" target=\"_parent\"><img src=\"https://colab.research.google.com/assets/colab-badge.svg\" alt=\"Open In Colab\"/></a>"
      ]
    },
    {
      "cell_type": "code",
      "metadata": {
        "id": "gKFiB4_Uyc-u"
      },
      "source": [
        "import tensorflow as tf\n",
        "import os\n",
        "import zipfile\n",
        "from os import path, getcwd, chdir\n",
        "\n",
        "path = f\"{getcwd()}/../tmp2/happy-or-sad.zip\"\n",
        "\n",
        "zip_ref = zipfile.ZipFile(path, 'r')\n",
        "zip_ref.extractall(\"/tmp/h-or-s\")\n",
        "zip_ref.close()"
      ],
      "execution_count": null,
      "outputs": []
    },
    {
      "cell_type": "code",
      "metadata": {
        "id": "Oi6kDJumy8lP"
      },
      "source": [
        "\n",
        "def train_happy_sad_model():\n",
        "\n",
        "\n",
        "    DESIRED_ACCURACY = 0.999\n",
        "\n",
        "    class myCallback(tf.keras.callbacks.Callback):\n",
        "        def on_epoch_end(self, epoch, logs={}):\n",
        "            if(logs.get('acc')>DESIRED_ACCURACY):\n",
        "                print(\"\\nReached 99.9% accuracy so cancelling training!\")\n",
        "                self.model.stop_training = True\n",
        "        \n",
        "\n",
        "    callbacks = myCallback()\n",
        "    \n",
        "    # This Code Block should Define and Compile the Model. Please assume the images are 150 X 150 in your implementation.\n",
        "    model = tf.keras.models.Sequential([\n",
        "        # Note the input shape is the desired size of the image 150x150 with 3 bytes color\n",
        "    # This is the first convolution\n",
        "    tf.keras.layers.Conv2D(16, (3,3), activation='relu', input_shape=(150, 150, 3)),\n",
        "    tf.keras.layers.MaxPooling2D(2, 2),\n",
        "    # The second convolution\n",
        "    tf.keras.layers.Conv2D(32, (3,3), activation='relu'),\n",
        "    tf.keras.layers.MaxPooling2D(2,2),\n",
        "    # The third convolution\n",
        "    tf.keras.layers.Conv2D(64, (3,3), activation='relu'),\n",
        "    tf.keras.layers.MaxPooling2D(2,2),\n",
        "    # Flatten the results to feed into a DNN\n",
        "    tf.keras.layers.Flatten(),\n",
        "    # 512 neuron hidden layer\n",
        "    tf.keras.layers.Dense(512, activation='relu'),\n",
        "    # Only 1 output neuron. It will contain a value from 0-1 where 0 for 1 class ('horses') and 1 for the other ('humans')\n",
        "    tf.keras.layers.Dense(1, activation='sigmoid')\n",
        "        # Your Code Here\n",
        "    ])\n",
        "\n",
        "    from tensorflow.keras.optimizers import RMSprop\n",
        "\n",
        "    model.compile(loss='binary_crossentropy',\n",
        "              optimizer=RMSprop(lr=0.001),\n",
        "              metrics=['accuracy'])\n",
        "        \n",
        "\n",
        "    # This code block should create an instance of an ImageDataGenerator called train_datagen \n",
        "    # And a train_generator by calling train_datagen.flow_from_directory\n",
        "\n",
        "    from tensorflow.keras.preprocessing.image import ImageDataGenerator\n",
        "\n",
        "    train_datagen = ImageDataGenerator(rescale=1/255)\n",
        "\n",
        "    # Please use a target_size of 150 X 150.\n",
        "    train_generator = train_datagen.flow_from_directory('/tmp/h-or-s/',  # This is the source directory for training images\n",
        "        target_size=(150, 150),  # All images will be resized to 150x150\n",
        "        batch_size=128,\n",
        "        class_mode='binary')\n",
        "    # Expected output: 'Found 80 images belonging to 2 classes'\n",
        "\n",
        "    # This code block should call model.fit_generator and train for\n",
        "    # a number of epochs.\n",
        "    # model fitting\n",
        "    history = model.fit_generator(train_generator,\n",
        "                                  steps_per_epoch=8,  \n",
        "                                  epochs=15,\n",
        "                                  verbose=1,\n",
        "                                  callbacks=[callbacks])\n",
        "    # model fitting\n",
        "    return history.history['acc'][-1]"
      ],
      "execution_count": null,
      "outputs": []
    },
    {
      "cell_type": "code",
      "metadata": {
        "id": "8ZV-a36Vy9hA"
      },
      "source": [
        "# The Expected output: \"Reached 99.9% accuracy so cancelling training!\"\"\n",
        "train_happy_sad_model()"
      ],
      "execution_count": null,
      "outputs": []
    },
    {
      "cell_type": "code",
      "metadata": {
        "id": "77F9h_JgzBCw"
      },
      "source": [
        ""
      ],
      "execution_count": null,
      "outputs": []
    }
  ]
}